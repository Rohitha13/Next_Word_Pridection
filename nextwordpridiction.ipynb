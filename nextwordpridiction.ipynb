{
  "nbformat": 4,
  "nbformat_minor": 0,
  "metadata": {
    "colab": {
      "provenance": [],
      "collapsed_sections": []
    },
    "kernelspec": {
      "name": "python3",
      "display_name": "Python 3"
    },
    "language_info": {
      "name": "python"
    },
    "accelerator": "GPU"
  },
  "cells": [
    {
      "cell_type": "code",
      "execution_count": 18,
      "metadata": {
        "id": "ikAaSHb_WS8i"
      },
      "outputs": [],
      "source": [
        "import tensorflow as tf\n",
        "from tensorflow.keras.preprocessing.text import Tokenizer\n",
        "from tensorflow.keras.layers import Embedding,LSTM,Dense\n",
        "from tensorflow.keras.models import Sequential\n",
        "from tensorflow.keras.utils import to_categorical\n",
        "from tensorflow.keras.optimizers import Adam\n",
        "import pickle\n",
        "import numpy as np\n",
        "import os\n"
      ]
    },
    {
      "cell_type": "markdown",
      "source": [
        " **Load your file**"
      ],
      "metadata": {
        "id": "_4n-od8Wc63O"
      }
    },
    {
      "cell_type": "code",
      "source": [
        "from google.colab import files\n",
        "uploaded = files.upload()"
      ],
      "metadata": {
        "id": "WZGXGl4ZYFTG",
        "colab": {
          "base_uri": "https://localhost:8080/",
          "height": 73
        },
        "outputId": "912b6842-b444-4c83-bc0e-fdad99924f6c"
      },
      "execution_count": 23,
      "outputs": [
        {
          "output_type": "display_data",
          "data": {
            "text/plain": [
              "<IPython.core.display.HTML object>"
            ],
            "text/html": [
              "\n",
              "     <input type=\"file\" id=\"files-7624cde6-9258-408d-91e6-9a46330d09eb\" name=\"files[]\" multiple disabled\n",
              "        style=\"border:none\" />\n",
              "     <output id=\"result-7624cde6-9258-408d-91e6-9a46330d09eb\">\n",
              "      Upload widget is only available when the cell has been executed in the\n",
              "      current browser session. Please rerun this cell to enable.\n",
              "      </output>\n",
              "      <script>// Copyright 2017 Google LLC\n",
              "//\n",
              "// Licensed under the Apache License, Version 2.0 (the \"License\");\n",
              "// you may not use this file except in compliance with the License.\n",
              "// You may obtain a copy of the License at\n",
              "//\n",
              "//      http://www.apache.org/licenses/LICENSE-2.0\n",
              "//\n",
              "// Unless required by applicable law or agreed to in writing, software\n",
              "// distributed under the License is distributed on an \"AS IS\" BASIS,\n",
              "// WITHOUT WARRANTIES OR CONDITIONS OF ANY KIND, either express or implied.\n",
              "// See the License for the specific language governing permissions and\n",
              "// limitations under the License.\n",
              "\n",
              "/**\n",
              " * @fileoverview Helpers for google.colab Python module.\n",
              " */\n",
              "(function(scope) {\n",
              "function span(text, styleAttributes = {}) {\n",
              "  const element = document.createElement('span');\n",
              "  element.textContent = text;\n",
              "  for (const key of Object.keys(styleAttributes)) {\n",
              "    element.style[key] = styleAttributes[key];\n",
              "  }\n",
              "  return element;\n",
              "}\n",
              "\n",
              "// Max number of bytes which will be uploaded at a time.\n",
              "const MAX_PAYLOAD_SIZE = 100 * 1024;\n",
              "\n",
              "function _uploadFiles(inputId, outputId) {\n",
              "  const steps = uploadFilesStep(inputId, outputId);\n",
              "  const outputElement = document.getElementById(outputId);\n",
              "  // Cache steps on the outputElement to make it available for the next call\n",
              "  // to uploadFilesContinue from Python.\n",
              "  outputElement.steps = steps;\n",
              "\n",
              "  return _uploadFilesContinue(outputId);\n",
              "}\n",
              "\n",
              "// This is roughly an async generator (not supported in the browser yet),\n",
              "// where there are multiple asynchronous steps and the Python side is going\n",
              "// to poll for completion of each step.\n",
              "// This uses a Promise to block the python side on completion of each step,\n",
              "// then passes the result of the previous step as the input to the next step.\n",
              "function _uploadFilesContinue(outputId) {\n",
              "  const outputElement = document.getElementById(outputId);\n",
              "  const steps = outputElement.steps;\n",
              "\n",
              "  const next = steps.next(outputElement.lastPromiseValue);\n",
              "  return Promise.resolve(next.value.promise).then((value) => {\n",
              "    // Cache the last promise value to make it available to the next\n",
              "    // step of the generator.\n",
              "    outputElement.lastPromiseValue = value;\n",
              "    return next.value.response;\n",
              "  });\n",
              "}\n",
              "\n",
              "/**\n",
              " * Generator function which is called between each async step of the upload\n",
              " * process.\n",
              " * @param {string} inputId Element ID of the input file picker element.\n",
              " * @param {string} outputId Element ID of the output display.\n",
              " * @return {!Iterable<!Object>} Iterable of next steps.\n",
              " */\n",
              "function* uploadFilesStep(inputId, outputId) {\n",
              "  const inputElement = document.getElementById(inputId);\n",
              "  inputElement.disabled = false;\n",
              "\n",
              "  const outputElement = document.getElementById(outputId);\n",
              "  outputElement.innerHTML = '';\n",
              "\n",
              "  const pickedPromise = new Promise((resolve) => {\n",
              "    inputElement.addEventListener('change', (e) => {\n",
              "      resolve(e.target.files);\n",
              "    });\n",
              "  });\n",
              "\n",
              "  const cancel = document.createElement('button');\n",
              "  inputElement.parentElement.appendChild(cancel);\n",
              "  cancel.textContent = 'Cancel upload';\n",
              "  const cancelPromise = new Promise((resolve) => {\n",
              "    cancel.onclick = () => {\n",
              "      resolve(null);\n",
              "    };\n",
              "  });\n",
              "\n",
              "  // Wait for the user to pick the files.\n",
              "  const files = yield {\n",
              "    promise: Promise.race([pickedPromise, cancelPromise]),\n",
              "    response: {\n",
              "      action: 'starting',\n",
              "    }\n",
              "  };\n",
              "\n",
              "  cancel.remove();\n",
              "\n",
              "  // Disable the input element since further picks are not allowed.\n",
              "  inputElement.disabled = true;\n",
              "\n",
              "  if (!files) {\n",
              "    return {\n",
              "      response: {\n",
              "        action: 'complete',\n",
              "      }\n",
              "    };\n",
              "  }\n",
              "\n",
              "  for (const file of files) {\n",
              "    const li = document.createElement('li');\n",
              "    li.append(span(file.name, {fontWeight: 'bold'}));\n",
              "    li.append(span(\n",
              "        `(${file.type || 'n/a'}) - ${file.size} bytes, ` +\n",
              "        `last modified: ${\n",
              "            file.lastModifiedDate ? file.lastModifiedDate.toLocaleDateString() :\n",
              "                                    'n/a'} - `));\n",
              "    const percent = span('0% done');\n",
              "    li.appendChild(percent);\n",
              "\n",
              "    outputElement.appendChild(li);\n",
              "\n",
              "    const fileDataPromise = new Promise((resolve) => {\n",
              "      const reader = new FileReader();\n",
              "      reader.onload = (e) => {\n",
              "        resolve(e.target.result);\n",
              "      };\n",
              "      reader.readAsArrayBuffer(file);\n",
              "    });\n",
              "    // Wait for the data to be ready.\n",
              "    let fileData = yield {\n",
              "      promise: fileDataPromise,\n",
              "      response: {\n",
              "        action: 'continue',\n",
              "      }\n",
              "    };\n",
              "\n",
              "    // Use a chunked sending to avoid message size limits. See b/62115660.\n",
              "    let position = 0;\n",
              "    do {\n",
              "      const length = Math.min(fileData.byteLength - position, MAX_PAYLOAD_SIZE);\n",
              "      const chunk = new Uint8Array(fileData, position, length);\n",
              "      position += length;\n",
              "\n",
              "      const base64 = btoa(String.fromCharCode.apply(null, chunk));\n",
              "      yield {\n",
              "        response: {\n",
              "          action: 'append',\n",
              "          file: file.name,\n",
              "          data: base64,\n",
              "        },\n",
              "      };\n",
              "\n",
              "      let percentDone = fileData.byteLength === 0 ?\n",
              "          100 :\n",
              "          Math.round((position / fileData.byteLength) * 100);\n",
              "      percent.textContent = `${percentDone}% done`;\n",
              "\n",
              "    } while (position < fileData.byteLength);\n",
              "  }\n",
              "\n",
              "  // All done.\n",
              "  yield {\n",
              "    response: {\n",
              "      action: 'complete',\n",
              "    }\n",
              "  };\n",
              "}\n",
              "\n",
              "scope.google = scope.google || {};\n",
              "scope.google.colab = scope.google.colab || {};\n",
              "scope.google.colab._files = {\n",
              "  _uploadFiles,\n",
              "  _uploadFilesContinue,\n",
              "};\n",
              "})(self);\n",
              "</script> "
            ]
          },
          "metadata": {}
        },
        {
          "output_type": "stream",
          "name": "stdout",
          "text": [
            "Saving 11-0.txt to 11-0.txt\n"
          ]
        }
      ]
    },
    {
      "cell_type": "markdown",
      "source": [
        "**Open and pre-process the data**"
      ],
      "metadata": {
        "id": "dStsUOwjco5a"
      }
    },
    {
      "cell_type": "code",
      "source": [
        "file = open(\"11-0.txt\", \"r\", encoding = \"utf8\")\n",
        "\n",
        "# store file in list\n",
        "lines = []\n",
        "for i in file:\n",
        "    lines.append(i)\n",
        "\n",
        "# Convert list to string\n",
        "data = \"\"\n",
        "for i in lines:\n",
        "  data = ' '. join(lines) \n",
        "\n",
        "#replace unnecessary stuff with space\n",
        "data = data.replace('\\n', '').replace('\\r', '').replace('\\ufeff', '').replace('“','').replace('”','').replace(\"'\",\" \")  #new line, carriage return, unicode character --> replace by space\n",
        "\n",
        "#remove unnecessary spaces \n",
        "data = data.split()\n",
        "data = ' '.join(data)\n",
        "data[:500]"
      ],
      "metadata": {
        "id": "XL10m2h8Z86e",
        "colab": {
          "base_uri": "https://localhost:8080/",
          "height": 70
        },
        "outputId": "e66cb42f-d1ac-4044-e259-7879e8d74975"
      },
      "execution_count": 26,
      "outputs": [
        {
          "output_type": "execute_result",
          "data": {
            "text/plain": [
              "'The Project Gutenberg eBook of Alice’s Adventures in Wonderland, by Lewis Carroll This eBook is for the use of anyone anywhere in the United States and most other parts of the world at no cost and with almost no restrictions whatsoever. You may copy it, give it away or re-use it under the terms of the Project Gutenberg License included with this eBook or online at www.gutenberg.org. If you are not located in the United States, you will have to check the laws of the country where you are located '"
            ],
            "application/vnd.google.colaboratory.intrinsic+json": {
              "type": "string"
            }
          },
          "metadata": {},
          "execution_count": 26
        }
      ]
    },
    {
      "cell_type": "code",
      "source": [
        "len(data)"
      ],
      "metadata": {
        "id": "KndjsFCncAi6",
        "colab": {
          "base_uri": "https://localhost:8080/"
        },
        "outputId": "cf9c26f8-e457-4122-a168-96a07d89e2eb"
      },
      "execution_count": 27,
      "outputs": [
        {
          "output_type": "execute_result",
          "data": {
            "text/plain": [
              "160214"
            ]
          },
          "metadata": {},
          "execution_count": 27
        }
      ]
    },
    {
      "cell_type": "markdown",
      "source": [
        "**Apply tokenization and some other changes**"
      ],
      "metadata": {
        "id": "OMXnU91XdAL4"
      }
    },
    {
      "cell_type": "code",
      "source": [
        "tokenizer = Tokenizer()\n",
        "tokenizer.fit_on_texts([data])\n",
        "\n",
        "# saving the tokenizer for predict function\n",
        "pickle.dump(tokenizer, open('token.pkl', 'wb'))\n",
        "\n",
        "sequence_data = tokenizer.texts_to_sequences([data])[0]\n",
        "sequence_data[:15]"
      ],
      "metadata": {
        "id": "W9Qn_h1oci3Z",
        "colab": {
          "base_uri": "https://localhost:8080/"
        },
        "outputId": "a1b17371-1e9f-469d-af1b-196e7c8d46e7"
      },
      "execution_count": 28,
      "outputs": [
        {
          "output_type": "execute_result",
          "data": {
            "text/plain": [
              "[1, 46, 41, 306, 5, 241, 387, 10, 536, 48, 952, 953, 21, 306, 33]"
            ]
          },
          "metadata": {},
          "execution_count": 28
        }
      ]
    },
    {
      "cell_type": "code",
      "source": [
        "len(sequence_data)"
      ],
      "metadata": {
        "id": "acV8NO88dF8f",
        "colab": {
          "base_uri": "https://localhost:8080/"
        },
        "outputId": "82ec19cd-deef-4ea7-f4ea-a442686ed10f"
      },
      "execution_count": 29,
      "outputs": [
        {
          "output_type": "execute_result",
          "data": {
            "text/plain": [
              "29934"
            ]
          },
          "metadata": {},
          "execution_count": 29
        }
      ]
    },
    {
      "cell_type": "code",
      "source": [
        "vocab_size = len(tokenizer.word_index) + 1\n",
        "print(vocab_size)"
      ],
      "metadata": {
        "id": "8TvFV12OdhJH",
        "colab": {
          "base_uri": "https://localhost:8080/"
        },
        "outputId": "91c9330e-f67a-41a9-cf8e-61d9c363d62b"
      },
      "execution_count": 30,
      "outputs": [
        {
          "output_type": "stream",
          "name": "stdout",
          "text": [
            "3302\n"
          ]
        }
      ]
    },
    {
      "cell_type": "code",
      "source": [
        "sequences = []\n",
        "\n",
        "for i in range(3, len(sequence_data)):\n",
        "    words = sequence_data[i-3:i+1]\n",
        "    sequences.append(words)\n",
        "    \n",
        "print(\"The Length of sequences are: \", len(sequences))\n",
        "sequences = np.array(sequences)\n",
        "sequences[:10]"
      ],
      "metadata": {
        "id": "WbR08Aa5eJJ4",
        "colab": {
          "base_uri": "https://localhost:8080/"
        },
        "outputId": "5d1bd2bc-2d18-43dd-87b9-059f124eb80e"
      },
      "execution_count": 31,
      "outputs": [
        {
          "output_type": "stream",
          "name": "stdout",
          "text": [
            "The Length of sequences are:  29931\n"
          ]
        },
        {
          "output_type": "execute_result",
          "data": {
            "text/plain": [
              "array([[  1,  46,  41, 306],\n",
              "       [ 46,  41, 306,   5],\n",
              "       [ 41, 306,   5, 241],\n",
              "       [306,   5, 241, 387],\n",
              "       [  5, 241, 387,  10],\n",
              "       [241, 387,  10, 536],\n",
              "       [387,  10, 536,  48],\n",
              "       [ 10, 536,  48, 952],\n",
              "       [536,  48, 952, 953],\n",
              "       [ 48, 952, 953,  21]])"
            ]
          },
          "metadata": {},
          "execution_count": 31
        }
      ]
    },
    {
      "cell_type": "code",
      "source": [
        "# sapareting the data input and output\n",
        "X = []\n",
        "y = []\n",
        "\n",
        "for i in sequences:\n",
        "    X.append(i[0:3])\n",
        "    y.append(i[3])\n",
        "    \n",
        "X = np.array(X)\n",
        "y = np.array(y)"
      ],
      "metadata": {
        "id": "sl42GqeEeLzW"
      },
      "execution_count": 32,
      "outputs": []
    },
    {
      "cell_type": "code",
      "source": [
        "print(\"Data: \", X[:10])\n",
        "print(\"Response: \", y[:10])"
      ],
      "metadata": {
        "id": "8lWNopIOeVcM",
        "colab": {
          "base_uri": "https://localhost:8080/"
        },
        "outputId": "594e1f96-1665-43db-e182-998706eb5ec5"
      },
      "execution_count": 33,
      "outputs": [
        {
          "output_type": "stream",
          "name": "stdout",
          "text": [
            "Data:  [[  1  46  41]\n",
            " [ 46  41 306]\n",
            " [ 41 306   5]\n",
            " [306   5 241]\n",
            " [  5 241 387]\n",
            " [241 387  10]\n",
            " [387  10 536]\n",
            " [ 10 536  48]\n",
            " [536  48 952]\n",
            " [ 48 952 953]]\n",
            "Response:  [306   5 241 387  10 536  48 952 953  21]\n"
          ]
        }
      ]
    },
    {
      "cell_type": "code",
      "source": [
        "y = to_categorical(y, num_classes=vocab_size)\n",
        "y[:5]"
      ],
      "metadata": {
        "id": "7jhQ5HzbeYLG",
        "colab": {
          "base_uri": "https://localhost:8080/"
        },
        "outputId": "35874d81-39e9-46e3-b92d-2fae2179585f"
      },
      "execution_count": 34,
      "outputs": [
        {
          "output_type": "execute_result",
          "data": {
            "text/plain": [
              "array([[0., 0., 0., ..., 0., 0., 0.],\n",
              "       [0., 0., 0., ..., 0., 0., 0.],\n",
              "       [0., 0., 0., ..., 0., 0., 0.],\n",
              "       [0., 0., 0., ..., 0., 0., 0.],\n",
              "       [0., 0., 0., ..., 0., 0., 0.]], dtype=float32)"
            ]
          },
          "metadata": {},
          "execution_count": 34
        }
      ]
    },
    {
      "cell_type": "markdown",
      "source": [
        "**Creating the model**"
      ],
      "metadata": {
        "id": "U8Zdt17kegK5"
      }
    },
    {
      "cell_type": "code",
      "source": [
        "model = Sequential()\n",
        "model.add(Embedding(vocab_size, 10, input_length=3))\n",
        "model.add(LSTM(1000, return_sequences=True))\n",
        "model.add(LSTM(1000))\n",
        "model.add(Dense(1000, activation=\"relu\"))\n",
        "model.add(Dense(vocab_size, activation=\"softmax\"))"
      ],
      "metadata": {
        "id": "LBwv6ESAebEh"
      },
      "execution_count": 35,
      "outputs": []
    },
    {
      "cell_type": "code",
      "source": [
        "model.summary()"
      ],
      "metadata": {
        "colab": {
          "base_uri": "https://localhost:8080/"
        },
        "id": "bLSiNKDKgzNA",
        "outputId": "272f0848-f1ba-488e-ce7d-e0a2607a862f"
      },
      "execution_count": 36,
      "outputs": [
        {
          "output_type": "stream",
          "name": "stdout",
          "text": [
            "Model: \"sequential_1\"\n",
            "_________________________________________________________________\n",
            " Layer (type)                Output Shape              Param #   \n",
            "=================================================================\n",
            " embedding_1 (Embedding)     (None, 3, 10)             33020     \n",
            "                                                                 \n",
            " lstm_2 (LSTM)               (None, 3, 1000)           4044000   \n",
            "                                                                 \n",
            " lstm_3 (LSTM)               (None, 1000)              8004000   \n",
            "                                                                 \n",
            " dense_2 (Dense)             (None, 1000)              1001000   \n",
            "                                                                 \n",
            " dense_3 (Dense)             (None, 3302)              3305302   \n",
            "                                                                 \n",
            "=================================================================\n",
            "Total params: 16,387,322\n",
            "Trainable params: 16,387,322\n",
            "Non-trainable params: 0\n",
            "_________________________________________________________________\n"
          ]
        }
      ]
    },
    {
      "cell_type": "markdown",
      "source": [
        "**Plot the model**"
      ],
      "metadata": {
        "id": "_NhirdABfC1x"
      }
    },
    {
      "cell_type": "code",
      "source": [
        "from tensorflow import keras\n",
        "from keras.utils.vis_utils import plot_model\n",
        "\n",
        "keras.utils.plot_model(model, to_file='plot.png', show_layer_names=True)"
      ],
      "metadata": {
        "id": "3IfAbvTDelAH",
        "colab": {
          "base_uri": "https://localhost:8080/",
          "height": 564
        },
        "outputId": "bfec1355-6fdd-4a00-e23f-8cf1573da3c2"
      },
      "execution_count": 37,
      "outputs": [
        {
          "output_type": "execute_result",
          "data": {
            "image/png": "[encoded data removed]",
            "text/plain": [
              "<IPython.core.display.Image object>"
            ]
          },
          "metadata": {},
          "execution_count": 37
        }
      ]
    },
    {
      "cell_type": "markdown",
      "source": [
        "**Train the model**\n"
      ],
      "metadata": {
        "id": "Lh1QYpBKfNjI"
      }
    },
    {
      "cell_type": "code",
      "source": [
        "from tensorflow.keras.callbacks import ModelCheckpoint\n",
        "\n",
        "checkpoint = ModelCheckpoint(\"next_words.h5\", monitor='loss', verbose=1, save_best_only=True)\n",
        "model.compile(loss=\"categorical_crossentropy\", optimizer=Adam(learning_rate=0.001))\n",
        "model.fit(X, y, epochs=70, batch_size=64, callbacks=[checkpoint])"
      ],
      "metadata": {
        "colab": {
          "base_uri": "https://localhost:8080/"
        },
        "id": "4PEYCxg8fHze",
        "outputId": "2cdd7c98-1dc7-4790-d0b3-7ad5396abcbf"
      },
      "execution_count": 38,
      "outputs": [
        {
          "output_type": "stream",
          "name": "stdout",
          "text": [
            "Epoch 1/70\n",
            "465/468 [============================>.] - ETA: 0s - loss: 6.4342\n",
            "Epoch 1: loss improved from inf to 6.43346, saving model to next_words.h5\n",
            "468/468 [==============================] - 10s 15ms/step - loss: 6.4335\n",
            "Epoch 2/70\n",
            "466/468 [============================>.] - ETA: 0s - loss: 5.9483\n",
            "Epoch 2: loss improved from 6.43346 to 5.94720, saving model to next_words.h5\n",
            "468/468 [==============================] - 7s 14ms/step - loss: 5.9472\n",
            "Epoch 3/70\n",
            "465/468 [============================>.] - ETA: 0s - loss: 5.5651\n",
            "Epoch 3: loss improved from 5.94720 to 5.56500, saving model to next_words.h5\n",
            "468/468 [==============================] - 7s 14ms/step - loss: 5.5650\n",
            "Epoch 4/70\n",
            "465/468 [============================>.] - ETA: 0s - loss: 5.2388\n",
            "Epoch 4: loss improved from 5.56500 to 5.23705, saving model to next_words.h5\n",
            "468/468 [==============================] - 7s 14ms/step - loss: 5.2370\n",
            "Epoch 5/70\n",
            "466/468 [============================>.] - ETA: 0s - loss: 4.9585\n",
            "Epoch 5: loss improved from 5.23705 to 4.96045, saving model to next_words.h5\n",
            "468/468 [==============================] - 7s 14ms/step - loss: 4.9605\n",
            "Epoch 6/70\n",
            "465/468 [============================>.] - ETA: 0s - loss: 4.7305\n",
            "Epoch 6: loss improved from 4.96045 to 4.72987, saving model to next_words.h5\n",
            "468/468 [==============================] - 7s 14ms/step - loss: 4.7299\n",
            "Epoch 7/70\n",
            "466/468 [============================>.] - ETA: 0s - loss: 4.5109\n",
            "Epoch 7: loss improved from 4.72987 to 4.51215, saving model to next_words.h5\n",
            "468/468 [==============================] - 7s 14ms/step - loss: 4.5122\n",
            "Epoch 8/70\n",
            "465/468 [============================>.] - ETA: 0s - loss: 4.2928\n",
            "Epoch 8: loss improved from 4.51215 to 4.29288, saving model to next_words.h5\n",
            "468/468 [==============================] - 7s 14ms/step - loss: 4.2929\n",
            "Epoch 9/70\n",
            "465/468 [============================>.] - ETA: 0s - loss: 4.0564\n",
            "Epoch 9: loss improved from 4.29288 to 4.05642, saving model to next_words.h5\n",
            "468/468 [==============================] - 7s 14ms/step - loss: 4.0564\n",
            "Epoch 10/70\n",
            "465/468 [============================>.] - ETA: 0s - loss: 3.8022\n",
            "Epoch 10: loss improved from 4.05642 to 3.80300, saving model to next_words.h5\n",
            "468/468 [==============================] - 7s 15ms/step - loss: 3.8030\n",
            "Epoch 11/70\n",
            "465/468 [============================>.] - ETA: 0s - loss: 3.5368\n",
            "Epoch 11: loss improved from 3.80300 to 3.53793, saving model to next_words.h5\n",
            "468/468 [==============================] - 7s 15ms/step - loss: 3.5379\n",
            "Epoch 12/70\n",
            "465/468 [============================>.] - ETA: 0s - loss: 3.2726\n",
            "Epoch 12: loss improved from 3.53793 to 3.27185, saving model to next_words.h5\n",
            "468/468 [==============================] - 7s 14ms/step - loss: 3.2718\n",
            "Epoch 13/70\n",
            "468/468 [==============================] - ETA: 0s - loss: 3.0153\n",
            "Epoch 13: loss improved from 3.27185 to 3.01527, saving model to next_words.h5\n",
            "468/468 [==============================] - 7s 15ms/step - loss: 3.0153\n",
            "Epoch 14/70\n",
            "465/468 [============================>.] - ETA: 0s - loss: 2.7600\n",
            "Epoch 14: loss improved from 3.01527 to 2.76097, saving model to next_words.h5\n",
            "468/468 [==============================] - 7s 15ms/step - loss: 2.7610\n",
            "Epoch 15/70\n",
            "465/468 [============================>.] - ETA: 0s - loss: 2.5357\n",
            "Epoch 15: loss improved from 2.76097 to 2.53581, saving model to next_words.h5\n",
            "468/468 [==============================] - 7s 15ms/step - loss: 2.5358\n",
            "Epoch 16/70\n",
            "465/468 [============================>.] - ETA: 0s - loss: 2.3121\n",
            "Epoch 16: loss improved from 2.53581 to 2.31443, saving model to next_words.h5\n",
            "468/468 [==============================] - 7s 15ms/step - loss: 2.3144\n",
            "Epoch 17/70\n",
            "465/468 [============================>.] - ETA: 0s - loss: 2.1035\n",
            "Epoch 17: loss improved from 2.31443 to 2.10483, saving model to next_words.h5\n",
            "468/468 [==============================] - 7s 15ms/step - loss: 2.1048\n",
            "Epoch 18/70\n",
            "468/468 [==============================] - ETA: 0s - loss: 1.9096\n",
            "Epoch 18: loss improved from 2.10483 to 1.90961, saving model to next_words.h5\n",
            "468/468 [==============================] - 7s 15ms/step - loss: 1.9096\n",
            "Epoch 19/70\n",
            "468/468 [==============================] - ETA: 0s - loss: 1.7270\n",
            "Epoch 19: loss improved from 1.90961 to 1.72698, saving model to next_words.h5\n",
            "468/468 [==============================] - 7s 15ms/step - loss: 1.7270\n",
            "Epoch 20/70\n",
            "465/468 [============================>.] - ETA: 0s - loss: 1.5449\n",
            "Epoch 20: loss improved from 1.72698 to 1.54700, saving model to next_words.h5\n",
            "468/468 [==============================] - 7s 15ms/step - loss: 1.5470\n",
            "Epoch 21/70\n",
            "465/468 [============================>.] - ETA: 0s - loss: 1.3776\n",
            "Epoch 21: loss improved from 1.54700 to 1.37947, saving model to next_words.h5\n",
            "468/468 [==============================] - 7s 15ms/step - loss: 1.3795\n",
            "Epoch 22/70\n",
            "465/468 [============================>.] - ETA: 0s - loss: 1.2267\n",
            "Epoch 22: loss improved from 1.37947 to 1.22860, saving model to next_words.h5\n",
            "468/468 [==============================] - 7s 15ms/step - loss: 1.2286\n",
            "Epoch 23/70\n",
            "465/468 [============================>.] - ETA: 0s - loss: 1.0878\n",
            "Epoch 23: loss improved from 1.22860 to 1.08822, saving model to next_words.h5\n",
            "468/468 [==============================] - 7s 15ms/step - loss: 1.0882\n",
            "Epoch 24/70\n",
            "468/468 [==============================] - ETA: 0s - loss: 0.9711\n",
            "Epoch 24: loss improved from 1.08822 to 0.97106, saving model to next_words.h5\n",
            "468/468 [==============================] - 7s 14ms/step - loss: 0.9711\n",
            "Epoch 25/70\n",
            "468/468 [==============================] - ETA: 0s - loss: 0.8704\n",
            "Epoch 25: loss improved from 0.97106 to 0.87036, saving model to next_words.h5\n",
            "468/468 [==============================] - 7s 15ms/step - loss: 0.8704\n",
            "Epoch 26/70\n",
            "468/468 [==============================] - ETA: 0s - loss: 0.7734\n",
            "Epoch 26: loss improved from 0.87036 to 0.77345, saving model to next_words.h5\n",
            "468/468 [==============================] - 7s 15ms/step - loss: 0.7734\n",
            "Epoch 27/70\n",
            "465/468 [============================>.] - ETA: 0s - loss: 0.7162\n",
            "Epoch 27: loss improved from 0.77345 to 0.71697, saving model to next_words.h5\n",
            "468/468 [==============================] - 7s 15ms/step - loss: 0.7170\n",
            "Epoch 28/70\n",
            "468/468 [==============================] - ETA: 0s - loss: 0.6506\n",
            "Epoch 28: loss improved from 0.71697 to 0.65056, saving model to next_words.h5\n",
            "468/468 [==============================] - 7s 15ms/step - loss: 0.6506\n",
            "Epoch 29/70\n",
            "468/468 [==============================] - ETA: 0s - loss: 0.6048\n",
            "Epoch 29: loss improved from 0.65056 to 0.60484, saving model to next_words.h5\n",
            "468/468 [==============================] - 7s 15ms/step - loss: 0.6048\n",
            "Epoch 30/70\n",
            "468/468 [==============================] - ETA: 0s - loss: 0.5782\n",
            "Epoch 30: loss improved from 0.60484 to 0.57821, saving model to next_words.h5\n",
            "468/468 [==============================] - 7s 15ms/step - loss: 0.5782\n",
            "Epoch 31/70\n",
            "465/468 [============================>.] - ETA: 0s - loss: 0.5571\n",
            "Epoch 31: loss improved from 0.57821 to 0.55707, saving model to next_words.h5\n",
            "468/468 [==============================] - 7s 15ms/step - loss: 0.5571\n",
            "Epoch 32/70\n",
            "465/468 [============================>.] - ETA: 0s - loss: 0.5235\n",
            "Epoch 32: loss improved from 0.55707 to 0.52357, saving model to next_words.h5\n",
            "468/468 [==============================] - 7s 15ms/step - loss: 0.5236\n",
            "Epoch 33/70\n",
            "465/468 [============================>.] - ETA: 0s - loss: 0.5054\n",
            "Epoch 33: loss improved from 0.52357 to 0.50553, saving model to next_words.h5\n",
            "468/468 [==============================] - 7s 15ms/step - loss: 0.5055\n",
            "Epoch 34/70\n",
            "465/468 [============================>.] - ETA: 0s - loss: 0.4920\n",
            "Epoch 34: loss improved from 0.50553 to 0.49293, saving model to next_words.h5\n",
            "468/468 [==============================] - 7s 15ms/step - loss: 0.4929\n",
            "Epoch 35/70\n",
            "468/468 [==============================] - ETA: 0s - loss: 0.4804\n",
            "Epoch 35: loss improved from 0.49293 to 0.48039, saving model to next_words.h5\n",
            "468/468 [==============================] - 7s 15ms/step - loss: 0.4804\n",
            "Epoch 36/70\n",
            "465/468 [============================>.] - ETA: 0s - loss: 0.4657\n",
            "Epoch 36: loss improved from 0.48039 to 0.46594, saving model to next_words.h5\n",
            "468/468 [==============================] - 7s 15ms/step - loss: 0.4659\n",
            "Epoch 37/70\n",
            "468/468 [==============================] - ETA: 0s - loss: 0.4484\n",
            "Epoch 37: loss improved from 0.46594 to 0.44837, saving model to next_words.h5\n",
            "468/468 [==============================] - 7s 15ms/step - loss: 0.4484\n",
            "Epoch 38/70\n",
            "465/468 [============================>.] - ETA: 0s - loss: 0.4429\n",
            "Epoch 38: loss improved from 0.44837 to 0.44356, saving model to next_words.h5\n",
            "468/468 [==============================] - 7s 15ms/step - loss: 0.4436\n",
            "Epoch 39/70\n",
            "468/468 [==============================] - ETA: 0s - loss: 0.4361\n",
            "Epoch 39: loss improved from 0.44356 to 0.43611, saving model to next_words.h5\n",
            "468/468 [==============================] - 7s 15ms/step - loss: 0.4361\n",
            "Epoch 40/70\n",
            "465/468 [============================>.] - ETA: 0s - loss: 0.4241\n",
            "Epoch 40: loss improved from 0.43611 to 0.42465, saving model to next_words.h5\n",
            "468/468 [==============================] - 7s 15ms/step - loss: 0.4247\n",
            "Epoch 41/70\n",
            "465/468 [============================>.] - ETA: 0s - loss: 0.4175\n",
            "Epoch 41: loss improved from 0.42465 to 0.41756, saving model to next_words.h5\n",
            "468/468 [==============================] - 7s 15ms/step - loss: 0.4176\n",
            "Epoch 42/70\n",
            "465/468 [============================>.] - ETA: 0s - loss: 0.4181\n",
            "Epoch 42: loss did not improve from 0.41756\n",
            "468/468 [==============================] - 6s 14ms/step - loss: 0.4183\n",
            "Epoch 43/70\n",
            "465/468 [============================>.] - ETA: 0s - loss: 0.4037\n",
            "Epoch 43: loss improved from 0.41756 to 0.40395, saving model to next_words.h5\n",
            "468/468 [==============================] - 7s 15ms/step - loss: 0.4040\n",
            "Epoch 44/70\n",
            "465/468 [============================>.] - ETA: 0s - loss: 0.4000\n",
            "Epoch 44: loss improved from 0.40395 to 0.40059, saving model to next_words.h5\n",
            "468/468 [==============================] - 7s 15ms/step - loss: 0.4006\n",
            "Epoch 45/70\n",
            "465/468 [============================>.] - ETA: 0s - loss: 0.3909\n",
            "Epoch 45: loss improved from 0.40059 to 0.39096, saving model to next_words.h5\n",
            "468/468 [==============================] - 7s 15ms/step - loss: 0.3910\n",
            "Epoch 46/70\n",
            "465/468 [============================>.] - ETA: 0s - loss: 0.3844\n",
            "Epoch 46: loss improved from 0.39096 to 0.38585, saving model to next_words.h5\n",
            "468/468 [==============================] - 7s 15ms/step - loss: 0.3858\n",
            "Epoch 47/70\n",
            "465/468 [============================>.] - ETA: 0s - loss: 0.3745\n",
            "Epoch 47: loss improved from 0.38585 to 0.37463, saving model to next_words.h5\n",
            "468/468 [==============================] - 7s 15ms/step - loss: 0.3746\n",
            "Epoch 48/70\n",
            "467/468 [============================>.] - ETA: 0s - loss: 0.3637\n",
            "Epoch 48: loss improved from 0.37463 to 0.36403, saving model to next_words.h5\n",
            "468/468 [==============================] - 7s 15ms/step - loss: 0.3640\n",
            "Epoch 49/70\n",
            "468/468 [==============================] - ETA: 0s - loss: 0.3613\n",
            "Epoch 49: loss improved from 0.36403 to 0.36132, saving model to next_words.h5\n",
            "468/468 [==============================] - 7s 15ms/step - loss: 0.3613\n",
            "Epoch 50/70\n",
            "468/468 [==============================] - ETA: 0s - loss: 0.3714\n",
            "Epoch 50: loss did not improve from 0.36132\n",
            "468/468 [==============================] - 6s 14ms/step - loss: 0.3714\n",
            "Epoch 51/70\n",
            "465/468 [============================>.] - ETA: 0s - loss: 0.3693\n",
            "Epoch 51: loss did not improve from 0.36132\n",
            "468/468 [==============================] - 6s 14ms/step - loss: 0.3696\n",
            "Epoch 52/70\n",
            "468/468 [==============================] - ETA: 0s - loss: 0.3708\n",
            "Epoch 52: loss did not improve from 0.36132\n",
            "468/468 [==============================] - 6s 14ms/step - loss: 0.3708\n",
            "Epoch 53/70\n",
            "465/468 [============================>.] - ETA: 0s - loss: 0.3480\n",
            "Epoch 53: loss improved from 0.36132 to 0.34784, saving model to next_words.h5\n",
            "468/468 [==============================] - 7s 15ms/step - loss: 0.3478\n",
            "Epoch 54/70\n",
            "468/468 [==============================] - ETA: 0s - loss: 0.3367\n",
            "Epoch 54: loss improved from 0.34784 to 0.33670, saving model to next_words.h5\n",
            "468/468 [==============================] - 7s 15ms/step - loss: 0.3367\n",
            "Epoch 55/70\n",
            "465/468 [============================>.] - ETA: 0s - loss: 0.3373\n",
            "Epoch 55: loss did not improve from 0.33670\n",
            "468/468 [==============================] - 6s 14ms/step - loss: 0.3386\n",
            "Epoch 56/70\n",
            "465/468 [============================>.] - ETA: 0s - loss: 0.3336\n",
            "Epoch 56: loss improved from 0.33670 to 0.33376, saving model to next_words.h5\n",
            "468/468 [==============================] - 7s 15ms/step - loss: 0.3338\n",
            "Epoch 57/70\n",
            "465/468 [============================>.] - ETA: 0s - loss: 0.3329\n",
            "Epoch 57: loss improved from 0.33376 to 0.33328, saving model to next_words.h5\n",
            "468/468 [==============================] - 7s 15ms/step - loss: 0.3333\n",
            "Epoch 58/70\n",
            "468/468 [==============================] - ETA: 0s - loss: 0.3357\n",
            "Epoch 58: loss did not improve from 0.33328\n",
            "468/468 [==============================] - 6s 14ms/step - loss: 0.3357\n",
            "Epoch 59/70\n",
            "465/468 [============================>.] - ETA: 0s - loss: 0.3471\n",
            "Epoch 59: loss did not improve from 0.33328\n",
            "468/468 [==============================] - 6s 14ms/step - loss: 0.3480\n",
            "Epoch 60/70\n",
            "467/468 [============================>.] - ETA: 0s - loss: 0.3375\n",
            "Epoch 60: loss did not improve from 0.33328\n",
            "468/468 [==============================] - 6s 14ms/step - loss: 0.3374\n",
            "Epoch 61/70\n",
            "465/468 [============================>.] - ETA: 0s - loss: 0.3269\n",
            "Epoch 61: loss improved from 0.33328 to 0.32651, saving model to next_words.h5\n",
            "468/468 [==============================] - 7s 15ms/step - loss: 0.3265\n",
            "Epoch 62/70\n",
            "466/468 [============================>.] - ETA: 0s - loss: 0.3129\n",
            "Epoch 62: loss improved from 0.32651 to 0.31318, saving model to next_words.h5\n",
            "468/468 [==============================] - 7s 15ms/step - loss: 0.3132\n",
            "Epoch 63/70\n",
            "468/468 [==============================] - ETA: 0s - loss: 0.3076\n",
            "Epoch 63: loss improved from 0.31318 to 0.30764, saving model to next_words.h5\n",
            "468/468 [==============================] - 7s 15ms/step - loss: 0.3076\n",
            "Epoch 64/70\n",
            "468/468 [==============================] - ETA: 0s - loss: 0.3072\n",
            "Epoch 64: loss improved from 0.30764 to 0.30721, saving model to next_words.h5\n",
            "468/468 [==============================] - 7s 15ms/step - loss: 0.3072\n",
            "Epoch 65/70\n",
            "465/468 [============================>.] - ETA: 0s - loss: 0.3147\n",
            "Epoch 65: loss did not improve from 0.30721\n",
            "468/468 [==============================] - 6s 14ms/step - loss: 0.3148\n",
            "Epoch 66/70\n",
            "465/468 [============================>.] - ETA: 0s - loss: 0.3319\n",
            "Epoch 66: loss did not improve from 0.30721\n",
            "468/468 [==============================] - 6s 14ms/step - loss: 0.3320\n",
            "Epoch 67/70\n",
            "465/468 [============================>.] - ETA: 0s - loss: 0.3275\n",
            "Epoch 67: loss did not improve from 0.30721\n",
            "468/468 [==============================] - 6s 14ms/step - loss: 0.3278\n",
            "Epoch 68/70\n",
            "465/468 [============================>.] - ETA: 0s - loss: 0.3066\n",
            "Epoch 68: loss improved from 0.30721 to 0.30709, saving model to next_words.h5\n",
            "468/468 [==============================] - 7s 15ms/step - loss: 0.3071\n",
            "Epoch 69/70\n",
            "467/468 [============================>.] - ETA: 0s - loss: 0.3042\n",
            "Epoch 69: loss improved from 0.30709 to 0.30423, saving model to next_words.h5\n",
            "468/468 [==============================] - 7s 15ms/step - loss: 0.3042\n",
            "Epoch 70/70\n",
            "468/468 [==============================] - ETA: 0s - loss: 0.2999\n",
            "Epoch 70: loss improved from 0.30423 to 0.29987, saving model to next_words.h5\n",
            "468/468 [==============================] - 8s 17ms/step - loss: 0.2999\n"
          ]
        },
        {
          "output_type": "execute_result",
          "data": {
            "text/plain": [
              "<keras.callbacks.History at 0x7f55907caed0>"
            ]
          },
          "metadata": {},
          "execution_count": 38
        }
      ]
    },
    {
      "cell_type": "markdown",
      "source": [
        "**Let's predict**"
      ],
      "metadata": {
        "id": "dYmJtkjFfY8u"
      }
    },
    {
      "cell_type": "code",
      "source": [
        "from tensorflow.keras.models import load_model\n",
        "import numpy as np\n",
        "import pickle\n",
        "\n",
        "# Load the model and tokenizer\n",
        "model = load_model('next_words.h5')\n",
        "tokenizer = pickle.load(open('token.pkl', 'rb'))\n",
        "\n",
        "def Predict_Next_Words(model, tokenizer, text):\n",
        "\n",
        "  sequence = tokenizer.texts_to_sequences([text])\n",
        "  sequence = np.array(sequence)\n",
        "  preds = np.argmax(model.predict(sequence))\n",
        "  predicted_word = \"\"\n",
        "  \n",
        "  for key, value in tokenizer.word_index.items():\n",
        "      if value == preds:\n",
        "          predicted_word = key\n",
        "          break\n",
        "  \n",
        "  print(predicted_word)\n",
        "  return predicted_word"
      ],
      "metadata": {
        "id": "gMl3VROTfU_e"
      },
      "execution_count": 39,
      "outputs": []
    },
    {
      "cell_type": "code",
      "source": [
        "while(True):\n",
        "  text = input(\"Enter your line: \")\n",
        "  \n",
        "  if text == \"0\":\n",
        "      print(\"Execution completed.....\")\n",
        "      break\n",
        "  \n",
        "  else:\n",
        "      try:\n",
        "          text = text.split(\" \")\n",
        "          text = text[-3:]\n",
        "          print(text)\n",
        "        \n",
        "          Predict_Next_Words(model, tokenizer, text)\n",
        "          \n",
        "      except Exception as e:\n",
        "        print(\"Error occurred: \",e)\n",
        "        continue\n"
      ],
      "metadata": {
        "colab": {
          "base_uri": "https://localhost:8080/"
        },
        "id": "YoKVm07YkCiP",
        "outputId": "eb4301b2-2ef2-4ba9-cd9b-44b56bf83e4c"
      },
      "execution_count": 40,
      "outputs": [
        {
          "name": "stdout",
          "output_type": "stream",
          "text": [
            "Enter your line: [Most recently updated: October 12, 2020]\n"
          ]
        },
        {
          "output_type": "stream",
          "name": "stderr",
          "text": [
            "WARNING:tensorflow:Model was constructed with shape (None, 3) for input KerasTensor(type_spec=TensorSpec(shape=(None, 3), dtype=tf.float32, name='embedding_1_input'), name='embedding_1_input', description=\"created by layer 'embedding_1_input'\"), but it was called on an input with incompatible shape (None, 1).\n"
          ]
        },
        {
          "output_type": "stream",
          "name": "stdout",
          "text": [
            "['October', '12,', '2020]']\n",
            "1/1 [==============================] - 1s 697ms/step\n",
            "such\n",
            "Enter your line: GUTENBERG EBOOK ALICE’S ADVENTURES\n",
            "['EBOOK', 'ALICE’S', 'ADVENTURES']\n",
            "1/1 [==============================] - 1s 602ms/step\n",
            "in\n",
            "Enter your line: and what is the use of a book\n",
            "['of', 'a', 'book']\n",
            "1/1 [==============================] - 0s 16ms/step\n",
            "thought\n",
            "Enter your line: 0\n",
            "Execution completed.....\n"
          ]
        }
      ]
    },
    {
      "cell_type": "code",
      "source": [],
      "metadata": {
        "id": "1BOyVxcHkOrK"
      },
      "execution_count": 40,
      "outputs": []
    }
  ]
}